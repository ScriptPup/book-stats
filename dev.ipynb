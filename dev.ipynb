{
 "cells": [
  {
   "cell_type": "code",
   "execution_count": null,
   "metadata": {},
   "outputs": [],
   "source": [
    "# !pip install beautifulsoup4 markdown mplcyberpunk matplotlib setuptools wordcloud"
   ]
  },
  {
   "cell_type": "code",
   "execution_count": null,
   "metadata": {},
   "outputs": [],
   "source": [
    "%load_ext autoreload\n",
    "%autoreload 2\n",
    "from src import Book"
   ]
  },
  {
   "cell_type": "code",
   "execution_count": null,
   "metadata": {},
   "outputs": [],
   "source": [
    "import os\n",
    "path = os.path.abspath(\"./testing/Testing.md\")\n",
    "book = Book(path)"
   ]
  },
  {
   "cell_type": "code",
   "execution_count": null,
   "metadata": {},
   "outputs": [],
   "source": [
    "a = {\"a\": 1,\"b\": 1, \"c\": 0}\n",
    "{k: v for k,v in a.items() if v == 1}"
   ]
  },
  {
   "cell_type": "code",
   "execution_count": null,
   "metadata": {},
   "outputs": [],
   "source": [
    "book.chapters[0].stats"
   ]
  },
  {
   "cell_type": "code",
   "execution_count": null,
   "metadata": {},
   "outputs": [],
   "source": [
    "axs,bars = book.reports.words_by_chapter(titled_by=\"number\",chart_type=\"line\")"
   ]
  },
  {
   "cell_type": "code",
   "execution_count": null,
   "metadata": {},
   "outputs": [],
   "source": [
    "axs,bars = book.reports.badwords_by_chapter(chart_type=\"bar\")"
   ]
  },
  {
   "cell_type": "code",
   "execution_count": null,
   "metadata": {},
   "outputs": [],
   "source": [
    "axs,bars = book.reports.top_badwords(data_labels=True)"
   ]
  },
  {
   "cell_type": "code",
   "execution_count": null,
   "metadata": {},
   "outputs": [],
   "source": [
    "axs,bars = book.reports.top_words()"
   ]
  },
  {
   "cell_type": "code",
   "execution_count": null,
   "metadata": {},
   "outputs": [],
   "source": [
    "axs,wordcloud = book.reports.words()"
   ]
  },
  {
   "cell_type": "code",
   "execution_count": null,
   "metadata": {},
   "outputs": [],
   "source": [
    "axs,wordcloud = book.reports.bad_words()"
   ]
  },
  {
   "cell_type": "code",
   "execution_count": null,
   "metadata": {},
   "outputs": [],
   "source": [
    "import numpy as np, os, matplotlib, sys\n",
    "sys.path.append('./src')\n",
    "import mplcyberpunk\n",
    "from book import Book\n",
    "from matplotlib import pyplot as plt\n",
    "import matplotlib.transforms as mtrans\n",
    "path = os.path.abspath(\"./testing/Testing.md\")\n",
    "fig, axes = plt.subplots(2,2, squeeze=False)\n",
    "\n",
    "\n",
    "plt.style.use(\"cyberpunk\")\n",
    "\n",
    "(_,wordCountPlot),(_,wordCloud),(_,filthPlot),(_,topWordsPlot) = enumerate(axes.flat)\n",
    "book = Book(path)\n",
    "_,__ = book.reports.words_by_chapter(axes=wordCountPlot,titled_by=\"number\",chart_type=\"line\")\n",
    "_,__ = book.reports.words(axes=wordCloud)\n",
    "_,__ = book.reports.top_words(axes=topWordsPlot, xaxes_options={\"rotation\": 90})\n",
    "_,__ = book.reports.badwords_by_chapter(axes=filthPlot,chart_type=\"bar\",xaxes_options={\"rotation\": 0})\n",
    "\n",
    "plt.tight_layout(pad=2)\n",
    "\n",
    "# https://stackoverflow.com/questions/26084231/draw-a-separator-or-lines-between-subplots\n",
    "\n",
    "# Draw a horizontal lines at those coordinates\n",
    "line = plt.Line2D([0,1],[0.51,0.51], transform=fig.transFigure, color=\"black\")\n",
    "_ = fig.add_artist(line)\n",
    "line = plt.Line2D([0.546,0.546],[1,0], transform=fig.transFigure, color=\"black\")\n",
    "_ = fig.add_artist(line)"
   ]
  }
 ],
 "metadata": {
  "kernelspec": {
   "display_name": ".venv",
   "language": "python",
   "name": "python3"
  },
  "language_info": {
   "codemirror_mode": {
    "name": "ipython",
    "version": 3
   },
   "file_extension": ".py",
   "mimetype": "text/x-python",
   "name": "python",
   "nbconvert_exporter": "python",
   "pygments_lexer": "ipython3",
   "version": "3.10.12"
  }
 },
 "nbformat": 4,
 "nbformat_minor": 2
}
